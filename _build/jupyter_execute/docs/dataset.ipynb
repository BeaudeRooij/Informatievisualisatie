{
 "cells": [
  {
   "cell_type": "markdown",
   "id": "3b46ee32",
   "metadata": {},
   "source": [
    "# Dataset and Preprocessing"
   ]
  },
  {
   "cell_type": "markdown",
   "id": "7cf81853-c237-4df2-8ed4-9deae8423fb0",
   "metadata": {},
   "source": [
    "## Datasets\n",
    "\n",
    "To give different perspectives on our topic, we had to find multiple datasets. For our final datastory we decided to use the following datasets:\n",
    "- __[Schiphol Airport Monthly Traffic Data 1992-now](https://www.schiphol.nl/en/schiphol-group/page/transport-and-traffic-statistics/)__\n",
    "- __[Incheon International Airport Statistics](https://www.airport.kr/co/en/cpr/statisticCategoryOfTimeSeries.do#none)__\n",
    "- dataset 3\n",
    "- dataset 4"
   ]
  }
 ],
 "metadata": {
  "celltoolbar": "Tags",
  "kernelspec": {
   "display_name": "Python 3 (ipykernel)",
   "language": "python",
   "name": "python3"
  },
  "language_info": {
   "codemirror_mode": {
    "name": "ipython",
    "version": 3
   },
   "file_extension": ".py",
   "mimetype": "text/x-python",
   "name": "python",
   "nbconvert_exporter": "python",
   "pygments_lexer": "ipython3",
   "version": "3.10.14"
  },
  "widgets": {
   "application/vnd.jupyter.widget-state+json": {
    "state": {},
    "version_major": 2,
    "version_minor": 0
   }
  }
 },
 "nbformat": 4,
 "nbformat_minor": 5
}