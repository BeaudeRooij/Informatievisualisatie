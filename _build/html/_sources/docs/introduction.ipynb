{
 "cells": [
  {
   "cell_type": "markdown",
   "id": "7cf81853-c237-4df2-8ed4-9deae8423fb0",
   "metadata": {},
   "source": [
    "# Introduction\n",
    "\n",
    "The expansion of Amsterdam's Schiphol Airport has been a subject of significant debate in recent years, with various perspectives and arguments contributing to the discussion. Schiphol is one of the busiest airports in Europe, serving as a crucial hub for international travel and trade. The question of whether Schiphol should grow in size encompasses a range of considerations, from economic benefits to environmental impacts and quality of life for nearby residents.\n",
    "\n",
    "To analyze this issue, we will examine data provided by Schiphol's own reports, which offer detailed insights into passenger numbers, flight frequencies, and economic contributions. Additionally, we will compare this data with information from Incheon International Airport in South Korea. Using a different airport's dataset will provide a broader perspective on airport expansion's potential impacts and benefits.\n",
    "\n",
    "Proponents of Schiphol's expansion argue that increasing the airport's capacity can significantly boost the Dutch economy. More flights mean more tourists, business travelers, and cargo, which can lead to job creation and increased revenue for businesses. Schiphol is a critical gateway for international trade, and expanding its facilities could enhance its competitive edge against other major European airports.\n",
    "\n",
    "Opponents highlight the environmental impact of expanding Schiphol. Increased air traffic leads to higher carbon emissions, contributing to climate change. Noise pollution is another significant concern, affecting the quality of life for residents in nearby areas. Environmental activists and local communities argue that the expansion could undermine the Netherlands' commitment to reducing greenhouse gas emissions."
   ]
  },
  {
   "cell_type": "markdown",
   "id": "4ab5e08a",
   "metadata": {},
   "source": [
    "__Authors:__\n",
    "- Adam van Seters\n",
    "- Beau de Rooij\n",
    "- Milan Misovic\n",
    "- Sarmad Shakarzadeh"
   ]
  }
 ],
 "metadata": {
  "celltoolbar": "Tags",
  "kernelspec": {
   "display_name": "Python 3 (ipykernel)",
   "language": "python",
   "name": "python3"
  },
  "language_info": {
   "codemirror_mode": {
    "name": "ipython",
    "version": 3
   },
   "file_extension": ".py",
   "mimetype": "text/x-python",
   "name": "python",
   "nbconvert_exporter": "python",
   "pygments_lexer": "ipython3",
   "version": "3.10.12"
  },
  "widgets": {
   "application/vnd.jupyter.widget-state+json": {
    "state": {},
    "version_major": 2,
    "version_minor": 0
   }
  }
 },
 "nbformat": 4,
 "nbformat_minor": 5
}
