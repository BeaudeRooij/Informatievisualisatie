{
 "cells": [
  {
   "cell_type": "markdown",
   "id": "3b46ee32",
   "metadata": {},
   "source": [
    "# Datasets and Preprocessing\n",
    "To give different perspectives on our topic, we had to find multiple datasets. For our final datastory we decided to use the following datasets:"
   ]
  },
  {
   "cell_type": "markdown",
   "id": "e3437135",
   "metadata": {},
   "source": [
    "__[Schiphol Airport Monthly Traffic Data 1992-now](https://www.schiphol.nl/en/schiphol-group/page/transport-and-traffic-statistics/)__\n",
    "\n",
    "The graph shows the total aircraft movement for Schiphol Airport, this means that cargo and passenger flights are shown together. This data is very important as we can see the growth of Schiphol and assess its current position in the global aviation industry. The measure of total aircraft movements is a very important one in the aviation world. This is because each airport gets allocated a certain number of flights per year. This graph makes it easy to see how close Schiphol is to that maximum."
   ]
  },
  {
   "cell_type": "markdown",
   "id": "ebe92698",
   "metadata": {},
   "source": [
    "__[Amsterdam Airport Schiphol; passagiersvervoer, partnerluchthaven](https://opendata.cbs.nl/statline/#/CBS/nl/dataset/83435NED/table)__\n",
    "\n",
    "The dataset used for this world map visualization was sourced from the CBS (Centraal Bureau voor de Statistiek) database. Originally, the dataset contained information on all airports globally, with each airport's name combined with its respective country in the same cell. This structure presented challenges for analysis and visualization, necessitating comprehensive preprocessing.\n",
    "\n",
    "The first step in preprocessing involved separating the airport and country names into distinct columns, transforming the initial 28,512 entries into a more manageable format. Once separated, the data was aggregated by country, summing the passenger numbers for all airports within the same country. This reduced the dataset to 3,915 entries, each representing a single country's total passenger numbers.\n",
    "\n",
    "Following the aggregation, the dataset underwent a thorough cleaning process to ensure accuracy. This included validating country names, ensuring consistent formatting, and checking for any anomalies in passenger numbers. Given that the dataset included Dutch country names, a crucial step was translating these into English to ensure universal understanding and correct mapping in the visualization.\n",
    "\n",
    "The final step involved reshaping the dataset from a wide format to a long format suitable for visualization. This entailed converting columns representing different years into rows, making it easier to plot trends over time. By aggregating data at the country level, the visualization became more straightforward, interpretable and highlighted global travel patterns more clearly."
   ]
  },
  {
   "cell_type": "markdown",
   "id": "163f7eb2",
   "metadata": {},
   "source": [
    "__[Emissions of air pollutants from civil aviation in the Netherlands](https://legacy.emissieregistratie.nl/erpubliek/documenten/05%20Verkeer%20en%20vervoer/2017%20(Dellaert%20&%20Hulskotte)%20Emissions%20of%20air%20pollutants%20from%20civil%20avi....pdf)__\n",
    "\n",
    "Continuous ratio variables: Take-off, Approach, Climb-out, Idle, APU, Jet Fuel, Aviation gasoline.\n",
    "There wasn't any data processing needed for this dataset.\n"
   ]
  },
  {
   "cell_type": "markdown",
   "id": "b37b3b8d",
   "metadata": {},
   "source": [
    "__[Geluidkaart Schiphol 2016 (Lden; 2 klassen) - Atlas Leefomgeving](https://data.rivm.nl/meta/srv/dut/catalog.search#/metadata/e5bbc648-a743-405f-99ba-5085e4d769c6)__\n",
    "\n",
    "The dataset includes polygons representing noise pollution areas around Schiphol, requiring no preprocessing."
   ]
  }
 ],
 "metadata": {
  "celltoolbar": "Tags",
  "kernelspec": {
   "display_name": "Python 3 (ipykernel)",
   "language": "python",
   "name": "python3"
  },
  "language_info": {
   "codemirror_mode": {
    "name": "ipython",
    "version": 3
   },
   "file_extension": ".py",
   "mimetype": "text/x-python",
   "name": "python",
   "nbconvert_exporter": "python",
   "pygments_lexer": "ipython3",
   "version": "3.10.12"
  },
  "widgets": {
   "application/vnd.jupyter.widget-state+json": {
    "state": {},
    "version_major": 2,
    "version_minor": 0
   }
  }
 },
 "nbformat": 4,
 "nbformat_minor": 5
}
