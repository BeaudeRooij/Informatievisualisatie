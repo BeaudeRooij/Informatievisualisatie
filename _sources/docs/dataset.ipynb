{
 "cells": [
  {
   "cell_type": "markdown",
   "id": "3b46ee32",
   "metadata": {},
   "source": [
    "# Datasets and preprocessing\n",
    "***\n",
    "To give different perspectives on our topic, we had to find multiple datasets. For our final datastory we decided to use the following datasets:"
   ]
  },
  {
   "cell_type": "markdown",
   "id": "e3437135",
   "metadata": {},
   "source": [
    "__[Schiphol Airport Monthly Traffic Data 1992-now](https://www.schiphol.nl/en/schiphol-group/page/transport-and-traffic-statistics/)__ <br>\n",
    "This dataset shows the total aircraft movement for Schiphol Airport, this means that cargo and passenger flights are shown together. This data is very important as we can see the growth of Schiphol and assess its current position in the global aviation industry. There wasn't any data processing needed for this dataset.\n",
    "\n",
    "Discrete ratio variables: `Total Air Movements`"
   ]
  },
  {
   "cell_type": "markdown",
   "id": "dd5764a7",
   "metadata": {},
   "source": []
  },
  {
   "cell_type": "markdown",
   "id": "0ad5c52e",
   "metadata": {},
   "source": []
  },
  {
   "cell_type": "markdown",
   "id": "9bfff5db",
   "metadata": {},
   "source": [
    "__[Annual Report 2023 - Royal Schiphol Group](https://www.schiphol.nl/nl/schiphol-group/pagina/jaarverslagen/)__ <br>\n",
    "For the preprocessing, we had to turn the raw data into a csv file using a command prompt.\n",
    "\n",
    "Continuous ratio variables: `revenue`, `operating result`, `net result`"
   ]
  },
  {
   "cell_type": "markdown",
   "id": "c5a93d17",
   "metadata": {},
   "source": [
    "__[Amsterdam Airport Schiphol; passagiersvervoer, partnerluchthaven](https://opendata.cbs.nl/statline/#/CBS/nl/dataset/83435NED/table)__ <br>\n",
    "The dataset used for this world map visualization was sourced from the CBS (Centraal Bureau voor de Statistiek) database. Originally, the dataset contained information on all airports globally, with each airport's name combined with its respective country in the same cell. This structure presented challenges for analysis and visualization, necessitating comprehensive preprocessing.\n",
    "\n",
    "The first step in preprocessing involved separating the airport and country names into distinct columns, transforming the initial 28,512 entries into a more manageable format. Once separated, the data was aggregated by country, summing the passenger numbers for all airports within the same country. This reduced the dataset to 3,915 entries, each representing a single country's total passenger numbers.\n",
    "\n",
    "Discrete nominal variable: `Country` <br>\n",
    "Discrete ratio variable: `Passengers`"
   ]
  },
  {
   "cell_type": "markdown",
   "id": "7aa20e52",
   "metadata": {},
   "source": [
    "__[Emissions of air pollutants from civil aviation in the Netherlands](https://legacy.emissieregistratie.nl/erpubliek/documenten/05%20Verkeer%20en%20vervoer/2017%20(Dellaert%20&%20Hulskotte)%20Emissions%20of%20air%20pollutants%20from%20civil%20avi....pdf)__<br>\n",
    "There wasn't any data processing needed for this dataset.\n",
    "\n",
    "Continuous ratio variables: `Take-off`, `Approach`, `Climb-out`, `Idle`, `APU`, `Jet Fuel`, `Aviation gasoline`."
   ]
  },
  {
   "cell_type": "markdown",
   "id": "2469a8e5",
   "metadata": {},
   "source": [
    "__[Geluidkaart Schiphol 2016 (Lden; 2 klassen) - Atlas Leefomgeving](https://data.rivm.nl/meta/srv/dut/catalog.search#/metadata/e5bbc648-a743-405f-99ba-5085e4d769c6)__<br>\n",
    "This dataset includes polygons representing noise pollution areas around Schiphol, requiring no preprocessing.\n",
    "\n",
    "Dicrete nominal variable: `geom` (Polygons)<br>\n",
    "Continuous interval variable: `fromto` (Noise levels in dB ranges)"
   ]
  }
 ],
 "metadata": {
  "celltoolbar": "Tags",
  "kernelspec": {
   "display_name": "Python 3 (ipykernel)",
   "language": "python",
   "name": "python3"
  },
  "language_info": {
   "codemirror_mode": {
    "name": "ipython",
    "version": 3
   },
   "file_extension": ".py",
   "mimetype": "text/x-python",
   "name": "python",
   "nbconvert_exporter": "python",
   "pygments_lexer": "ipython3",
   "version": "3.10.12"
  },
  "widgets": {
   "application/vnd.jupyter.widget-state+json": {
    "state": {},
    "version_major": 2,
    "version_minor": 0
   }
  }
 },
 "nbformat": 4,
 "nbformat_minor": 5
}
