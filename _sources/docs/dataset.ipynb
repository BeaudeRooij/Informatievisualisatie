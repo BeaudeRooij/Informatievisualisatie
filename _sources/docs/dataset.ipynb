{
 "cells": [
  {
   "cell_type": "markdown",
   "id": "3b46ee32",
   "metadata": {},
   "source": [
    "# Dataset and Preprocessing"
   ]
  },
  {
   "cell_type": "markdown",
   "id": "7cf81853-c237-4df2-8ed4-9deae8423fb0",
   "metadata": {},
   "source": [
    "## Datasets\n",
    "\n",
    "To give different perspectives on our topic, we had to find multiple datasets. For our final datastory we decided to use the following datasets:"
   ]
  },
  {
   "cell_type": "markdown",
   "id": "e3437135",
   "metadata": {},
   "source": [
    "- ### __[Schiphol Airport Monthly Traffic Data 1992-now](https://www.schiphol.nl/en/schiphol-group/page/transport-and-traffic-statistics/)__\n",
    "The dataset was downloaded directly from Schiphol's website, which provides neatly structured information about passenger movement, cargo movement and more. Pulling the specific data was not much harder than selecting a certain column in the excel-file and printing it using some lines of code. The YYYY-MM format dates however, had to be hand-written. Luckily, generative tools are allowed which makes this an easy job. With both variables ready, the plot was ready to be generated. "
   ]
  },
  {
   "cell_type": "markdown",
   "id": "ebe92698",
   "metadata": {},
   "source": [
    "- ### __[Amsterdam Airport Schiphol; passagiersvervoer, partnerluchthaven](https://opendata.cbs.nl/statline/#/CBS/nl/dataset/83435NED/table)__"
   ]
  },
  {
   "cell_type": "markdown",
   "id": "163f7eb2",
   "metadata": {},
   "source": [
    "- ### __[Emissions of air pollutants from civil aviation in the Netherlands](https://legacy.emissieregistratie.nl/erpubliek/documenten/05%20Verkeer%20en%20vervoer/2017%20(Dellaert%20&%20Hulskotte)%20Emissions%20of%20air%20pollutants%20from%20civil%20avi....pdf)__"
   ]
  },
  {
   "cell_type": "markdown",
   "id": "b37b3b8d",
   "metadata": {},
   "source": [
    "- ### __[Geluidkaart Schiphol 2016 (Lden; 2 klassen) - Atlas Leefomgeving](https://data.rivm.nl/meta/srv/dut/catalog.search#/metadata/e5bbc648-a743-405f-99ba-5085e4d769c6)__"
   ]
  }
 ],
 "metadata": {
  "celltoolbar": "Tags",
  "kernelspec": {
   "display_name": "Python 3 (ipykernel)",
   "language": "python",
   "name": "python3"
  },
  "language_info": {
   "codemirror_mode": {
    "name": "ipython",
    "version": 3
   },
   "file_extension": ".py",
   "mimetype": "text/x-python",
   "name": "python",
   "nbconvert_exporter": "python",
   "pygments_lexer": "ipython3",
   "version": "3.10.12"
  },
  "widgets": {
   "application/vnd.jupyter.widget-state+json": {
    "state": {},
    "version_major": 2,
    "version_minor": 0
   }
  }
 },
 "nbformat": 4,
 "nbformat_minor": 5
}
