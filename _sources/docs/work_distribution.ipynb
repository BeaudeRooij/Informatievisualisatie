{
 "cells": [
  {
   "cell_type": "markdown",
   "id": "3b46ee32",
   "metadata": {},
   "source": [
    "# Work Distribution\n",
    "\n",
    "Because our team has previous experience working with each other we used multiple different methods of communication from messaging each other on whatsapp or discord to calling each other and meeting up in classes or in a room on campus. After the brainstorming session we decided to choose our subject Schiphol and afterwards we separately provided datasets. In the following session we chose the best ones and oriented towards making a cohesive draft using the datasets we already had and searching for more. After positive feedback and a successful proposal we finalized and connected the dots. Overall we all had a very pleasant work experience and our communication was flawless.\n",
    "\n",
    "### Adam\n",
    "\n",
    "### Beau\n",
    "Beau was responsible for the noise pollution graph and text, and he also set up and added all the text and graphs to the Jupyter Book.\n",
    "\n",
    "### Milan\n",
    "\n",
    "### Sarmad\n",
    "Sarmad made one of the graphs, contributed to the introduction and data preprocessing and wrote the reflection and work distribution."
   ]
  }
 ],
 "metadata": {
  "celltoolbar": "Tags",
  "kernelspec": {
   "display_name": "Python 3 (ipykernel)",
   "language": "python",
   "name": "python3"
  },
  "language_info": {
   "codemirror_mode": {
    "name": "ipython",
    "version": 3
   },
   "file_extension": ".py",
   "mimetype": "text/x-python",
   "name": "python",
   "nbconvert_exporter": "python",
   "pygments_lexer": "ipython3",
   "version": "3.10.12"
  },
  "widgets": {
   "application/vnd.jupyter.widget-state+json": {
    "state": {},
    "version_major": 2,
    "version_minor": 0
   }
  }
 },
 "nbformat": 4,
 "nbformat_minor": 5
}
