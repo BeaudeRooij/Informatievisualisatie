{
 "cells": [
  {
   "cell_type": "markdown",
   "id": "3b46ee32",
   "metadata": {},
   "source": [
    "# Reflection\n",
    "***\n",
    "\n",
    "## Peer feedback\n",
    "Our peer review meeting was on the 20th of June where we showed our work for group H2 to review. After showing the work group H2 complimented our overall structure and especially liked our world map and the noise pollution map. \n",
    "The overall feedback from our peers and our TA is as following:\n",
    "- Better and more concise use of colors in our graphs\n",
    "- Cleaner graphs, using 1 method of data visualization instead of multiple in one graph\n",
    "- Expand and complement the arguments supporting the graphs\n",
    "- Several other small points that still needed improvement\n",
    "\n",
    "## Self-reflection\n",
    "For our reflection we want to thank our peers for providing useful feedback and our TA’s for guiding us in the right direction. Besides external feedback we also reviewed our own work at every meeting to make sure that we were still on point with the ideas in our draft. We are content with the graphs we made to support our analysis, as they are aligned with the vision we had starting this project. The vision to show people in a short datastory how the expansion or reduction of Schiphol airport has been succeeded. The only shortfall this project experienced is the lack of a concrete link between Schiphol’s growth and the GDP growth of the Netherlands, this is due to the lack of concrete data and research between the link.\n"
   ]
  }
 ],
 "metadata": {
  "celltoolbar": "Tags",
  "kernelspec": {
   "display_name": "Python 3 (ipykernel)",
   "language": "python",
   "name": "python3"
  },
  "language_info": {
   "codemirror_mode": {
    "name": "ipython",
    "version": 3
   },
   "file_extension": ".py",
   "mimetype": "text/x-python",
   "name": "python",
   "nbconvert_exporter": "python",
   "pygments_lexer": "ipython3",
   "version": "3.10.12"
  },
  "widgets": {
   "application/vnd.jupyter.widget-state+json": {
    "state": {},
    "version_major": 2,
    "version_minor": 0
   }
  }
 },
 "nbformat": 4,
 "nbformat_minor": 5
}
